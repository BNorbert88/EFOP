{
  "nbformat": 4,
  "nbformat_minor": 0,
  "metadata": {
    "colab": {
      "name": "Weatherby.ipynb",
      "provenance": [],
      "collapsed_sections": []
    },
    "kernelspec": {
      "name": "python3",
      "display_name": "Python 3"
    },
    "accelerator": "GPU"
  },
  "cells": [
    {
      "cell_type": "code",
      "metadata": {
        "id": "9jWb7FmyPyN3",
        "colab_type": "code",
        "outputId": "fc8b6804-2d17-482e-ed8d-a5afda6c25ea",
        "colab": {
          "base_uri": "https://localhost:8080/",
          "height": 34
        }
      },
      "source": [
        "import torch as th\n",
        "import torch.nn as nn\n",
        "from torchvision import datasets, transforms\n",
        "import matplotlib.pyplot as plt\n",
        "\n",
        "device = \"cuda\" if th.cuda.is_available() else \"cpu\"\n",
        "print(device)"
      ],
      "execution_count": 0,
      "outputs": [
        {
          "output_type": "stream",
          "text": [
            "cuda\n"
          ],
          "name": "stdout"
        }
      ]
    },
    {
      "cell_type": "code",
      "metadata": {
        "id": "oQ1vcqczP6qB",
        "colab_type": "code",
        "colab": {}
      },
      "source": [
        "class ResidualBlock(nn.Module):\n",
        "  def __init__(self, features):\n",
        "    super(ResidualBlock, self).__init__()\n",
        "\n",
        "    self.model = nn.Sequential(\n",
        "      nn.ReflectionPad2d(1),\n",
        "      nn.Conv2d(features, features, 3),\n",
        "      nn.InstanceNorm2d(features),\n",
        "      nn.ReLU(inplace=True),\n",
        "      nn.ReflectionPad2d(1),\n",
        "      nn.Conv2d(features, features, 3),\n",
        "      nn.InstanceNorm2d(features))\n",
        "\n",
        "  def forward(self, x):\n",
        "    return x + self.model(x)"
      ],
      "execution_count": 0,
      "outputs": []
    },
    {
      "cell_type": "code",
      "metadata": {
        "id": "oacdomuuWIO9",
        "colab_type": "code",
        "colab": {}
      },
      "source": [
        "class DownsamplerBlock(nn.Module):\n",
        "  def __init__(\n",
        "          self, \n",
        "          input_features=3,\n",
        "          start_features=64, \n",
        "          downsampling_stages=2, \n",
        "          residual_stages=2):\n",
        "    super(DownsamplerBlock, self).__init__()\n",
        "\n",
        "    # initial stage\n",
        "    features = start_features\n",
        "    model = [\n",
        "      nn.ReflectionPad2d(3),\n",
        "      nn.Conv2d(input_features, features, 7),\n",
        "      nn.InstanceNorm2d(features),\n",
        "      nn.ReLU(inplace=True),\n",
        "    ]\n",
        "\n",
        "    # downsampling stages\n",
        "    for _ in range(downsampling_stages):\n",
        "      model += [\n",
        "        nn.Conv2d(features, 2 * features, 3, stride=2, padding=1),\n",
        "        nn.InstanceNorm2d(2 * features),\n",
        "        nn.ReLU(inplace=True),\n",
        "      ]\n",
        "      features *= 2\n",
        "\n",
        "    # residual stages\n",
        "    for _ in range(residual_stages):\n",
        "      model += [\n",
        "        ResidualBlock(features),\n",
        "      ]\n",
        "\n",
        "    # just for fun\n",
        "    # model += [ nn.Tanh() ]\n",
        "\n",
        "    self.model = nn.Sequential(*model)\n",
        "\n",
        "  def forward(self, x):\n",
        "    return self.model(x)"
      ],
      "execution_count": 0,
      "outputs": []
    },
    {
      "cell_type": "code",
      "metadata": {
        "id": "wd8QZBnvWN85",
        "colab_type": "code",
        "colab": {}
      },
      "source": [
        "class UpsamplerBlock(nn.Module):\n",
        "  def __init__(\n",
        "          self,\n",
        "          input_features=3,\n",
        "          start_features=64, \n",
        "          downsampling_stages=2, \n",
        "          residual_stages=2):\n",
        "    super(UpsamplerBlock, self).__init__()\n",
        "\n",
        "    # residual stages\n",
        "    features = start_features * (2 ** downsampling_stages)\n",
        "    model = []\n",
        "    for _ in range(residual_stages):\n",
        "      model += [\n",
        "        ResidualBlock(features),\n",
        "      ]\n",
        "\n",
        "    # upsampling stages\n",
        "    for _ in range(downsampling_stages):\n",
        "      features //= 2\n",
        "      model += [\n",
        "        nn.ConvTranspose2d(2 * features, features, 3, stride=2, padding=1, output_padding=1),\n",
        "        nn.InstanceNorm2d(features),\n",
        "        nn.ReLU(inplace=True)\n",
        "      ]\n",
        "\n",
        "    # final stage\n",
        "    assert features == start_features\n",
        "    model += [\n",
        "      nn.ReflectionPad2d(3),\n",
        "      nn.Conv2d(features, input_features, 7),\n",
        "    ]\n",
        "\n",
        "    # just for fun\n",
        "    # model += [ nn.Tanh() ]\n",
        "\n",
        "    self.model = nn.Sequential(*model)\n",
        "\n",
        "  def forward(self, x):\n",
        "    return self.model(x)"
      ],
      "execution_count": 0,
      "outputs": []
    },
    {
      "cell_type": "code",
      "metadata": {
        "id": "BZRkT5EbYfeo",
        "colab_type": "code",
        "outputId": "7631e008-ec2f-4dc2-fa50-98dd601d9b20",
        "colab": {
          "base_uri": "https://localhost:8080/",
          "height": 68
        }
      },
      "source": [
        "data = th.zeros([2, 3, 100, 100])\n",
        "print(data.shape)\n",
        "downsampler = DownsamplerBlock(input_features=3, downsampling_stages=2, residual_stages=2)\n",
        "data = downsampler(data)\n",
        "print(data.shape)\n",
        "upsampler = UpsamplerBlock(input_features=3, downsampling_stages=2, residual_stages=2)\n",
        "data = upsampler(data)\n",
        "print(data.shape)"
      ],
      "execution_count": 0,
      "outputs": [
        {
          "output_type": "stream",
          "text": [
            "torch.Size([2, 3, 100, 100])\n",
            "torch.Size([2, 256, 25, 25])\n",
            "torch.Size([2, 3, 100, 100])\n"
          ],
          "name": "stdout"
        }
      ]
    },
    {
      "cell_type": "code",
      "metadata": {
        "id": "SS2B1Yr1kqxI",
        "colab_type": "code",
        "outputId": "b1b5ca50-e6eb-4d03-8eaf-3e7d0fea0ad5",
        "colab": {
          "base_uri": "https://localhost:8080/",
          "height": 1000
        }
      },
      "source": [
        "def mnist_training():\n",
        "  training_data = datasets.MNIST(\n",
        "    'data', \n",
        "    train=True, \n",
        "    download=True,\n",
        "    transform=transforms.Compose([\n",
        "      transforms.ToTensor(),\n",
        "      transforms.Normalize([0.1307], [0.3081])\n",
        "    ]))\n",
        "  training_loader = th.utils.data.DataLoader(\n",
        "    training_data,\n",
        "    batch_size=100,\n",
        "    shuffle=True)\n",
        "\n",
        "  downsampler = DownsamplerBlock(\n",
        "    input_features=1, \n",
        "    start_features=32).to(device)\n",
        "  upsampler = UpsamplerBlock(\n",
        "      input_features=1, \n",
        "      start_features=32).to(device)\n",
        "  criterion = nn.MSELoss()\n",
        "\n",
        "  optimizer = th.optim.Adam(\n",
        "    list(downsampler.parameters()) + list(upsampler.parameters()),\n",
        "    lr=2e-4,\n",
        "    betas=(0.5, 0.999)\n",
        "  )\n",
        "  \n",
        "  for batch_idx, (data, _) in enumerate(training_loader):\n",
        "    optimizer.zero_grad()\n",
        "    data1 = data.to(device)\n",
        "    data2 = downsampler(data1)\n",
        "    data3 = upsampler(data2)\n",
        "    loss = criterion(data1, data3)\n",
        "    if batch_idx % 100 == 0:\n",
        "      print(batch_idx, loss.item())\n",
        "      fig, (ax0, ax1) = plt.subplots(1, 2)\n",
        "      ax0.imshow(-data1[0, 0].cpu(), cmap='Greys')\n",
        "      ax1.imshow(-data3[0, 0].detach().cpu(), cmap='Greys')\n",
        "      plt.show()\n",
        "    loss.backward()\n",
        "    optimizer.step()\n",
        "\n",
        "mnist_training()"
      ],
      "execution_count": 0,
      "outputs": [
        {
          "output_type": "stream",
          "text": [
            "0 1.1876953840255737\n"
          ],
          "name": "stdout"
        },
        {
          "output_type": "display_data",
          "data": {
            "image/png": "[encoded data removed]",
            "text/plain": [
              "<Figure size 432x288 with 2 Axes>"
            ]
          },
          "metadata": {
            "tags": []
          }
        },
        {
          "output_type": "stream",
          "text": [
            "100 0.08065197616815567\n"
          ],
          "name": "stdout"
        },
        {
          "output_type": "display_data",
          "data": {
            "image/png": "[encoded data removed]",
            "text/plain": [
              "<Figure size 432x288 with 2 Axes>"
            ]
          },
          "metadata": {
            "tags": []
          }
        },
        {
          "output_type": "stream",
          "text": [
            "200 0.05199085548520088\n"
          ],
          "name": "stdout"
        },
        {
          "output_type": "display_data",
          "data": {
            "image/png": "[encoded data removed]",
            "text/plain": [
              "<Figure size 432x288 with 2 Axes>"
            ]
          },
          "metadata": {
            "tags": []
          }
        },
        {
          "output_type": "stream",
          "text": [
            "300 0.045962970703840256\n"
          ],
          "name": "stdout"
        },
        {
          "output_type": "display_data",
          "data": {
            "image/png": "[encoded data removed]",
            "text/plain": [
              "<Figure size 432x288 with 2 Axes>"
            ]
          },
          "metadata": {
            "tags": []
          }
        },
        {
          "output_type": "stream",
          "text": [
            "400 0.03461388871073723\n"
          ],
          "name": "stdout"
        },
        {
          "output_type": "display_data",
          "data": {
            "image/png": "[encoded data removed]",
            "text/plain": [
              "<Figure size 432x288 with 2 Axes>"
            ]
          },
          "metadata": {
            "tags": []
          }
        },
        {
          "output_type": "stream",
          "text": [
            "500 0.03542117029428482\n"
          ],
          "name": "stdout"
        },
        {
          "output_type": "display_data",
          "data": {
            "image/png": "[encoded data removed]",
            "text/plain": [
              "<Figure size 432x288 with 2 Axes>"
            ]
          },
          "metadata": {
            "tags": []
          }
        }
      ]
    }
  ]
}