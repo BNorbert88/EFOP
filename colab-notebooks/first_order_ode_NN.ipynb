{
  "nbformat": 4,
  "nbformat_minor": 0,
  "metadata": {
    "colab": {
      "name": "first order ode NN.ipynb",
      "provenance": [],
      "collapsed_sections": []
    },
    "kernelspec": {
      "name": "python3",
      "display_name": "Python 3"
    }
  },
  "cells": [
    {
      "cell_type": "code",
      "metadata": {
        "id": "pK1srMbGrXh2",
        "colab_type": "code",
        "colab": {}
      },
      "source": [
        "#https://arxiv.org/pdf/physics/9705023.pdf, igaz 1997 :\\"
      ],
      "execution_count": 0,
      "outputs": []
    },
    {
      "cell_type": "code",
      "metadata": {
        "id": "v8bxpkszC-m9",
        "colab_type": "code",
        "colab": {}
      },
      "source": [
        "import autograd.numpy as np\n",
        "from autograd import grad \n",
        "import autograd.numpy.random as npr\n",
        "\n",
        "from autograd.core import primitive\n",
        "\n",
        "from matplotlib import pyplot as plt\n",
        "%matplotlib inline\n"
      ],
      "execution_count": 0,
      "outputs": []
    },
    {
      "cell_type": "code",
      "metadata": {
        "id": "l3KYrVxWDF8f",
        "colab_type": "code",
        "colab": {}
      },
      "source": [
        "nx = 10\n",
        "dx = 1. / nx"
      ],
      "execution_count": 0,
      "outputs": []
    },
    {
      "cell_type": "code",
      "metadata": {
        "id": "s7O8Lylla0KA",
        "colab_type": "code",
        "colab": {}
      },
      "source": [
        "#dpsy/dx = psy egyenletet szeretnénk megoldani:"
      ],
      "execution_count": 0,
      "outputs": []
    },
    {
      "cell_type": "code",
      "metadata": {
        "id": "nVt7V6DtDb-3",
        "colab_type": "code",
        "colab": {}
      },
      "source": [
        "def f(x, psy):\n",
        "    '''\n",
        "        d(psy)/dx = f(x, psy)\n",
        "        This is f() function on the right\n",
        "    '''\n",
        "    return psy\n",
        "\n",
        "def psy_analytic(x):\n",
        "    '''\n",
        "        Analytical solution of current problem\n",
        "    '''\n",
        "    return np.exp(x)"
      ],
      "execution_count": 0,
      "outputs": []
    },
    {
      "cell_type": "code",
      "metadata": {
        "id": "OmwqwZAeD3TA",
        "colab_type": "code",
        "outputId": "43647efc-358c-4fd5-f8ee-c1115c2ac8a2",
        "colab": {
          "base_uri": "https://localhost:8080/",
          "height": 279
        }
      },
      "source": [
        "x_space = np.linspace(0, 1, nx)    \n",
        "y_space = psy_analytic(x_space)\n",
        "psy_fd = np.zeros_like(y_space)\n",
        "psy_fd[0] = 1. # IC\n",
        "\n",
        "for i in range(1, len(x_space)):\n",
        "    psy_fd[i] = psy_fd[i-1] + psy_fd[i-1] * dx\n",
        "  \n",
        "plt.figure()\n",
        "plt.plot(x_space, y_space,label='exact') \n",
        "plt.plot(x_space, psy_fd,label='Euler')\n",
        "plt.legend()\n",
        "plt.xlabel('t')\n",
        "plt.ylabel('u(t)')\n",
        "plt.show()"
      ],
      "execution_count": 0,
      "outputs": [
        {
          "output_type": "display_data",
          "data": {
            "image/png": "[encoded data removed]",
            "text/plain": [
              "<Figure size 432x288 with 1 Axes>"
            ]
          },
          "metadata": {
            "tags": []
          }
        }
      ]
    },
    {
      "cell_type": "code",
      "metadata": {
        "id": "yP1oXlWfFc1j",
        "colab_type": "code",
        "colab": {}
      },
      "source": [
        "def sigmoid(x):\n",
        "    return 1 / (1 + np.exp(-x))\n",
        "\n",
        "\n",
        "def sigmoid_grad(x):\n",
        "    return sigmoid(x) * (1 - sigmoid(x))\n",
        "\n",
        "\n",
        "def neural_network(W, x):\n",
        "    a1 = sigmoid(np.dot(x, W[0]))\n",
        "    return np.dot(a1, W[1])\n",
        "\n",
        "\n",
        "def d_neural_network_dx(W, x, k=1):\n",
        "    return np.dot(np.dot(W[1].T, W[0].T**k), sigmoid_grad(x))\n",
        "\n",
        "\n",
        "def loss_function(W, x):\n",
        "    loss_sum = 0.\n",
        "    for xi in x:\n",
        "        net_out = neural_network(W, xi)[0][0]\n",
        "        psy_t = 1. + xi * net_out\n",
        "        d_net_out = d_neural_network_dx(W, xi)[0][0]\n",
        "        d_psy_t = net_out + xi * d_net_out\n",
        "        func = f(xi, psy_t)       \n",
        "        err_sqr = (d_psy_t - func)**2\n",
        "\n",
        "        loss_sum += err_sqr\n",
        "    return loss_sum"
      ],
      "execution_count": 0,
      "outputs": []
    },
    {
      "cell_type": "code",
      "metadata": {
        "id": "cmFsccfRFrcw",
        "colab_type": "code",
        "colab": {}
      },
      "source": [
        "W = [npr.randn(1, 10), npr.randn(10, 1)]\n",
        "lmb = 0.001\n",
        "\n",
        "# x = np.array(1)\n",
        "# print neural_network(W, x)\n",
        "# print d_neural_network_dx(W, x)\n",
        "\n",
        "for i in range(1000):\n",
        "    loss_grad =  grad(loss_function)(W, x_space)\n",
        "    \n",
        "#     print loss_grad[0].shape, W[0].shape\n",
        "#     print loss_grad[1].shape, W[1].shape\n",
        "    \n",
        "    W[0] = W[0] - lmb * loss_grad[0]\n",
        "    W[1] = W[1] - lmb * loss_grad[1]\n",
        "    \n",
        "#     print loss_function(W, x_space)"
      ],
      "execution_count": 0,
      "outputs": []
    },
    {
      "cell_type": "code",
      "metadata": {
        "id": "jIqnH0XGFwSd",
        "colab_type": "code",
        "outputId": "f938630d-3a06-483d-d0bb-80ac78213b3f",
        "colab": {
          "base_uri": "https://localhost:8080/",
          "height": 483
        }
      },
      "source": [
        "print(loss_function(W, x_space))\n",
        "res = [1 + xi * neural_network(W, xi)[0][0] for xi in x_space] \n",
        "\n",
        "print(W)\n",
        "\n",
        "plt.figure()\n",
        "plt.plot(x_space, y_space,label='exact') \n",
        "plt.plot(x_space, psy_fd,label='Euler')\n",
        "plt.plot(x_space, res,label='NN')\n",
        "plt.legend()\n",
        "plt.xlabel('t')\n",
        "plt.ylabel('u(t)')\n",
        "plt.show()"
      ],
      "execution_count": 0,
      "outputs": [
        {
          "output_type": "stream",
          "text": [
            "0.13018759044532546\n",
            "[array([[ 2.67871848, -2.12560615, -0.67379039,  0.04234096, -1.54374264,\n",
            "        -0.31625876,  0.70140742,  1.13246895,  0.07237049, -0.16456663]]), array([[-0.49719111],\n",
            "       [-1.81080571],\n",
            "       [-1.70450329],\n",
            "       [ 2.20048251],\n",
            "       [ 0.3735514 ],\n",
            "       [ 0.62877394],\n",
            "       [ 0.92352372],\n",
            "       [ 0.41431381],\n",
            "       [ 0.0708565 ],\n",
            "       [ 1.07334307]])]\n"
          ],
          "name": "stdout"
        },
        {
          "output_type": "display_data",
          "data": {
            "image/png": "[encoded data removed]",
            "text/plain": [
              "<Figure size 432x288 with 1 Axes>"
            ]
          },
          "metadata": {
            "tags": []
          }
        }
      ]
    },
    {
      "cell_type": "code",
      "metadata": {
        "id": "41TuRO-dbI4Y",
        "colab_type": "code",
        "colab": {}
      },
      "source": [
        "#dpsy/dx=psy(1-psy) egyenletet szeretnénk megoldani:"
      ],
      "execution_count": 0,
      "outputs": []
    },
    {
      "cell_type": "code",
      "metadata": {
        "id": "4MJkbPN0kUWO",
        "colab_type": "code",
        "colab": {}
      },
      "source": [
        "nx = 10.\n",
        "dx = 1. / nx"
      ],
      "execution_count": 0,
      "outputs": []
    },
    {
      "cell_type": "code",
      "metadata": {
        "id": "QEmOmpzHbPzg",
        "colab_type": "code",
        "colab": {}
      },
      "source": [
        "def f(x, psy):\n",
        "    '''\n",
        "        d(psy)/dx = f(x, psy)\n",
        "        This is f() function on the right\n",
        "    '''\n",
        "    return psy*(1-psy)\n",
        "\n",
        "def psy_analytic(x):\n",
        "    '''\n",
        "        Analytical solution of current problem\n",
        "    '''\n",
        "    return (np.exp(x)/(99+np.exp(x)))"
      ],
      "execution_count": 0,
      "outputs": []
    },
    {
      "cell_type": "code",
      "metadata": {
        "id": "iyFUiSWbptve",
        "colab_type": "code",
        "outputId": "8836b8de-b505-4d40-8506-e3e01b15ee85",
        "colab": {
          "base_uri": "https://localhost:8080/",
          "height": 34
        }
      },
      "source": [
        "psy_analytic(0)"
      ],
      "execution_count": 0,
      "outputs": [
        {
          "output_type": "execute_result",
          "data": {
            "text/plain": [
              "0.01"
            ]
          },
          "metadata": {
            "tags": []
          },
          "execution_count": 124
        }
      ]
    },
    {
      "cell_type": "code",
      "metadata": {
        "id": "HatFuxkb4W_h",
        "colab_type": "code",
        "colab": {}
      },
      "source": [
        "x_space = np.linspace(0, 1, nx)    \n",
        "y_space = psy_analytic(x_space)"
      ],
      "execution_count": 0,
      "outputs": []
    },
    {
      "cell_type": "code",
      "metadata": {
        "id": "Vq3z-Tec4vRy",
        "colab_type": "code",
        "colab": {}
      },
      "source": [
        "def sigmoid(x):\n",
        "    return 1 / (1 + np.exp(-x))\n",
        "\n",
        "\n",
        "def sigmoid_grad(x):\n",
        "    return sigmoid(x) * (1 - sigmoid(x))\n",
        "\n",
        "\n",
        "def neural_network(W, x):\n",
        "    a1 = sigmoid(np.dot(x, W[0]))\n",
        "    return np.dot(a1, W[1])\n",
        "\n",
        "\n",
        "def d_neural_network_dx(W, x, k=1):\n",
        "    return np.dot(np.dot(W[1].T, W[0].T**k), sigmoid_grad(x))\n",
        "\n",
        "\n",
        "def loss_function(W, x):\n",
        "    loss_sum = 0.\n",
        "    for xi in x:\n",
        "        net_out = neural_network(W, xi)[0][0]\n",
        "        psy_t = 0.01 + xi * net_out\n",
        "        d_net_out = d_neural_network_dx(W, xi)[0][0]\n",
        "        d_psy_t = net_out + xi * d_net_out\n",
        "        func = f(xi, psy_t)       \n",
        "        err_sqr = (d_psy_t - func)**2\n",
        "\n",
        "        loss_sum += err_sqr\n",
        "    return loss_sum"
      ],
      "execution_count": 0,
      "outputs": []
    },
    {
      "cell_type": "code",
      "metadata": {
        "id": "_OmJpTfHg7cD",
        "colab_type": "code",
        "colab": {}
      },
      "source": [
        "W = [npr.randn(1, 10), npr.randn(10, 1)]\n",
        "lmb = 0.001\n",
        "\n",
        "# x = np.array(1)\n",
        "# print neural_network(W, x)\n",
        "# print d_neural_network_dx(W, x)\n",
        "\n",
        "for i in range(1000):\n",
        "    loss_grad =  grad(loss_function)(W, x_space)\n",
        "    \n",
        "#     print loss_grad[0].shape, W[0].shape\n",
        "#     print loss_grad[1].shape, W[1].shape\n",
        "    \n",
        "    W[0] = W[0] - lmb * loss_grad[0]\n",
        "    W[1] = W[1] - lmb * loss_grad[1]\n",
        "    \n",
        "#     print loss_function(W, x_space)"
      ],
      "execution_count": 0,
      "outputs": []
    },
    {
      "cell_type": "code",
      "metadata": {
        "id": "MztgeN5HhcSI",
        "colab_type": "code",
        "outputId": "0cb89a85-49a4-4345-904c-ccadcfab65d6",
        "colab": {
          "base_uri": "https://localhost:8080/",
          "height": 469
        }
      },
      "source": [
        "print(loss_function(W, x_space))\n",
        "res = [0.01 + xi * neural_network(W, xi)[0][0] for xi in x_space] \n",
        "\n",
        "print(W)\n",
        "\n",
        "plt.figure()\n",
        "plt.plot(x_space, y_space,label='exact') \n",
        "plt.plot(x_space, psy_fd,label='Euler')\n",
        "plt.plot(x_space, res,label='NN')\n",
        "plt.legend()\n",
        "plt.show()"
      ],
      "execution_count": 0,
      "outputs": [
        {
          "output_type": "stream",
          "text": [
            "0.0064894470633448005\n",
            "[array([[-0.73995191, -0.22134492, -0.06610538,  0.45122612,  1.25288995,\n",
            "         0.90601382, -0.22562101, -0.56858089,  0.3585137 ,  1.3257636 ]]), array([[ 0.4155529 ],\n",
            "       [-0.95642552],\n",
            "       [ 0.88036392],\n",
            "       [ 0.1768174 ],\n",
            "       [ 0.19276505],\n",
            "       [-0.62133429],\n",
            "       [ 0.39169127],\n",
            "       [-0.80773383],\n",
            "       [ 0.11629414],\n",
            "       [ 0.15341619]])]\n"
          ],
          "name": "stdout"
        },
        {
          "output_type": "display_data",
          "data": {
            "image/png": "[encoded data removed]",
            "text/plain": [
              "<Figure size 432x288 with 1 Axes>"
            ]
          },
          "metadata": {
            "tags": []
          }
        }
      ]
    },
    {
      "cell_type": "code",
      "metadata": {
        "id": "8v8s4gJZ8kJt",
        "colab_type": "code",
        "colab": {}
      },
      "source": [
        "def sigmoid(x):\n",
        "    return 1. / (1. + np.exp(-x))\n",
        "\n",
        "def neural_network(W, x):\n",
        "    a1 = sigmoid(np.dot(x, W[0]))\n",
        "    return np.dot(a1, W[1])\n",
        "\n",
        "def neural_network_x(x):\n",
        "    a1 = sigmoid(np.dot(x, W[0]))\n",
        "    return np.dot(a1, W[1])\n",
        "\n",
        "def psy_trial(xi, net_out):\n",
        "    return 0.01 + xi * net_out\n",
        "\n",
        "psy_grad = grad(psy_trial)\n",
        "\n",
        "def loss_function(W, x):\n",
        "    loss_sum = 0.\n",
        "    \n",
        "    for xi in x:\n",
        "        net_out = neural_network(W, xi)[0][0]\n",
        "\n",
        "        net_out_d = grad(neural_network_x)(xi)\n",
        "                \n",
        "        psy_t = psy_trial(xi, net_out)\n",
        "        \n",
        "        gradient_of_trial = psy_grad(xi, net_out)\n",
        "                \n",
        "        func = f(xi, psy_t) # right part function\n",
        "        \n",
        "        err_sqr = (gradient_of_trial - func)**2\n",
        "        loss_sum += err_sqr\n",
        "        \n",
        "    return loss_sum"
      ],
      "execution_count": 0,
      "outputs": []
    },
    {
      "cell_type": "code",
      "metadata": {
        "id": "GTq1YvmC97Ik",
        "colab_type": "code",
        "colab": {}
      },
      "source": [
        "W = [npr.randn(1, 10), npr.randn(10, 1)]\n",
        "lmb = 0.001\n",
        "\n",
        "for i in range(1000):\n",
        "    loss_grad =  grad(loss_function)(W, x_space)\n",
        "\n",
        "    W[0] = W[0] - lmb * loss_grad[0]\n",
        "    W[1] = W[1] - lmb * loss_grad[1]"
      ],
      "execution_count": 0,
      "outputs": []
    },
    {
      "cell_type": "code",
      "metadata": {
        "id": "e6w6C2fS-xYe",
        "colab_type": "code",
        "outputId": "0b3df5f1-1217-412b-bc2e-8c7cc272dcb1",
        "colab": {
          "base_uri": "https://localhost:8080/",
          "height": 282
        }
      },
      "source": [
        "print(loss_function(W, x_space))\n",
        "res = [psy_trial(xi, neural_network(W, xi)[0][0]) for xi in x_space] \n",
        "\n",
        "\n",
        "plt.figure()\n",
        "plt.plot(x_space, y_space) \n",
        "plt.plot(x_space, res)\n",
        "plt.show()"
      ],
      "execution_count": 0,
      "outputs": [
        {
          "output_type": "stream",
          "text": [
            "0.0010086030741891395\n"
          ],
          "name": "stdout"
        },
        {
          "output_type": "display_data",
          "data": {
            "image/png": "[encoded data removed]",
            "text/plain": [
              "<Figure size 432x288 with 1 Axes>"
            ]
          },
          "metadata": {
            "tags": []
          }
        }
      ]
    }
  ]
}