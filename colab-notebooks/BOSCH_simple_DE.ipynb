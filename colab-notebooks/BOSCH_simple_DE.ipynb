{
  "nbformat": 4,
  "nbformat_minor": 0,
  "metadata": {
    "colab": {
      "name": "BOSCH simple DE.ipynb",
      "provenance": [],
      "collapsed_sections": []
    },
    "kernelspec": {
      "name": "python3",
      "display_name": "Python 3"
    },
    "accelerator": "GPU"
  },
  "cells": [
    {
      "cell_type": "code",
      "metadata": {
        "colab_type": "code",
        "outputId": "ab7decf0-786e-4a71-8532-c4805502136b",
        "id": "Bm1mq1v727dX",
        "colab": {
          "base_uri": "https://localhost:8080/",
          "height": 35
        }
      },
      "source": [
        "import matplotlib.pyplot as plt\n",
        "import torch as th\n",
        "\n",
        "device = \"cuda\" if th.cuda.is_available() else \"cpu\"\n",
        "print(device)"
      ],
      "execution_count": 0,
      "outputs": [
        {
          "output_type": "stream",
          "text": [
            "cuda\n"
          ],
          "name": "stdout"
        }
      ]
    },
    {
      "cell_type": "code",
      "metadata": {
        "id": "X_RqlCIcL16f",
        "colab_type": "code",
        "outputId": "ca2cfe69-bf80-4d2f-a5b2-7f979f2aa716",
        "colab": {
          "base_uri": "https://localhost:8080/",
          "height": 90
        }
      },
      "source": [
        "a = th.tensor([2.0], requires_grad=True).to(device)\n",
        "b = th.tensor([3.0], requires_grad=True).to(device)\n",
        "print(a, b)\n",
        "\n",
        "def model0_u(t):\n",
        "  return a * t * t + b\n",
        "\n",
        "t = th.tensor([2.0, 3.0], requires_grad=True).to(device)\n",
        "print(t)\n",
        "u = model0_u(t)\n",
        "print(u)\n",
        "ut = th.autograd.grad([th.sum(u)], [t], create_graph=True, only_inputs=True)[0]\n",
        "print(ut)"
      ],
      "execution_count": 0,
      "outputs": [
        {
          "output_type": "stream",
          "text": [
            "tensor([2.], device='cuda:0', grad_fn=<CopyBackwards>) tensor([3.], device='cuda:0', grad_fn=<CopyBackwards>)\n",
            "tensor([2., 3.], device='cuda:0', grad_fn=<CopyBackwards>)\n",
            "tensor([11., 21.], device='cuda:0', grad_fn=<AddBackward0>)\n",
            "tensor([ 8., 12.], device='cuda:0', grad_fn=<AddBackward0>)\n"
          ],
          "name": "stdout"
        }
      ]
    },
    {
      "cell_type": "code",
      "metadata": {
        "id": "cV5WQFicJP1m",
        "colab_type": "code",
        "colab": {}
      },
      "source": [
        "# input shape [*, 1], output shape [*, 1]\n",
        "model1 = th.nn.Sequential(\n",
        "    th.nn.Linear(1, 1000),\n",
        "    th.nn.ReLU(),\n",
        "    th.nn.Linear(1000, 1)\n",
        ").to(device)\n",
        "\n",
        "def error1(t):\n",
        "  u = model1(t)\n",
        "  ut = th.autograd.grad([th.sum(u)], [t], create_graph=True, only_inputs=True)[0]\n",
        "  e1 = (ut - u) ** 2\n",
        "  e2 = (model1(th.tensor([0.0], device=device)) - 1.0) ** 2\n",
        "  return e1 + e2\n",
        "\n",
        "# t = th.rand([5, 1], requires_grad=True)\n",
        "# print(t)\n",
        "# print(error1(t))"
      ],
      "execution_count": 0,
      "outputs": []
    },
    {
      "cell_type": "code",
      "metadata": {
        "id": "NvB1MzI9Jr6M",
        "colab_type": "code",
        "colab": {}
      },
      "source": [
        "  # input shape [*, 1], output shape [*, 1]\n",
        "model1 = th.nn.Sequential(\n",
        "    th.nn.Linear(1, 1000),\n",
        "    th.nn.ReLU(),\n",
        "    th.nn.Linear(1000, 1)\n",
        ").to(device)\n",
        "\n",
        "def error1(t):\n",
        "  u = model1(t)\n",
        "  ut = th.autograd.grad([th.sum(u)], [t], create_graph=True, only_inputs=True)[0]\n",
        "  w=th.exp(t)\n",
        "  e1 = w * (ut - u) ** 2\n",
        "  e2 = w * (model1(th.tensor([0.0], device=device)) - 1.0) ** 2\n",
        "  return e1 + e2\n",
        "\n",
        "# t = th.rand([5, 1], requires_grad=True)\n",
        "# print(t)\n",
        "# print(error1(t))"
      ],
      "execution_count": 0,
      "outputs": []
    },
    {
      "cell_type": "code",
      "metadata": {
        "id": "FJoqZwqBWFaz",
        "colab_type": "code",
        "outputId": "200ac4aa-b23e-4818-9e56-7ee7b9463aa2",
        "colab": {
          "base_uri": "https://localhost:8080/",
          "height": 265
        }
      },
      "source": [
        "def plot1(start=-2.0, end=2.0):\n",
        "  t = th.arange(1001.0).to(device) / 1000 * (end - start) + start\n",
        "  u = model1(t.unsqueeze(1)).squeeze(1)\n",
        "  plt.plot(t.detach().cpu().numpy(), u.detach().cpu().numpy(), label=\"numerical\")\n",
        "  plt.plot(t.detach().cpu().numpy(), th.exp(t).detach().cpu().numpy(), label=\"theoretical\")\n",
        "  plt.legend()\n",
        "  plt.show()\n",
        "\n",
        "plot1()"
      ],
      "execution_count": 0,
      "outputs": [
        {
          "output_type": "display_data",
          "data": {
            "image/png": "[encoded data removed]",
            "text/plain": [
              "<Figure size 432x288 with 1 Axes>"
            ]
          },
          "metadata": {
            "tags": []
          }
        }
      ]
    },
    {
      "cell_type": "code",
      "metadata": {
        "id": "tJZWpBmvT-0F",
        "colab_type": "code",
        "outputId": "5ead23ab-97c1-47d9-e316-4129d47b05f6",
        "colab": {
          "base_uri": "https://localhost:8080/",
          "height": 632
        }
      },
      "source": [
        "def optim1(batch=1000, lr=1e-5, steps=10000):\n",
        "  opt = th.optim.Adam(model1.parameters(), lr=lr)\n",
        "\n",
        "  for step in range(1, steps + 1):\n",
        "    opt.zero_grad()\n",
        "\n",
        "    # evaluate at random places in the [-2, 2] interval\n",
        "    t = th.rand([batch, 1], requires_grad=True, device=device) * 4 - 2\n",
        "    loss = th.mean(error1(t))\n",
        "\n",
        "    if step % 500 == 0:\n",
        "      print(step, loss.item())\n",
        "    \n",
        "    loss.backward()\n",
        "    opt.step()\n",
        "\n",
        "optim1()\n",
        "plot1()"
      ],
      "execution_count": 0,
      "outputs": [
        {
          "output_type": "stream",
          "text": [
            "500 0.6164329648017883\n",
            "1000 0.502188503742218\n",
            "1500 0.4061051607131958\n",
            "2000 0.3759474754333496\n",
            "2500 0.36281818151474\n",
            "3000 0.3397136330604553\n",
            "3500 0.32504215836524963\n",
            "4000 0.3040604293346405\n",
            "4500 0.2750381827354431\n",
            "5000 0.26046374440193176\n",
            "5500 0.2291622757911682\n",
            "6000 0.20739133656024933\n",
            "6500 0.17856156826019287\n",
            "7000 0.17010380327701569\n",
            "7500 0.15038910508155823\n",
            "8000 0.13025471568107605\n",
            "8500 0.10539522022008896\n",
            "9000 0.08793724328279495\n",
            "9500 0.08710785210132599\n",
            "10000 0.06982357800006866\n"
          ],
          "name": "stdout"
        },
        {
          "output_type": "display_data",
          "data": {
            "image/png": "[encoded data removed]",
            "text/plain": [
              "<Figure size 432x288 with 1 Axes>"
            ]
          },
          "metadata": {
            "tags": []
          }
        }
      ]
    },
    {
      "cell_type": "code",
      "metadata": {
        "id": "HNSoaKqOif5g",
        "colab_type": "code",
        "colab": {}
      },
      "source": [
        "model2 = th.nn.Sequential(\n",
        "    th.nn.Linear(1, 100),\n",
        "    th.nn.ReLU(),\n",
        "    th.nn.Linear(100, 100),\n",
        "    th.nn.ReLU(),\n",
        "    th.nn.Linear(100, 1)\n",
        ").to(device)\n",
        "\n",
        "def error2(t):\n",
        "  u = model2(t)\n",
        "  ut = th.autograd.grad([th.sum(u)], [t], create_graph=True, only_inputs=True)[0]\n",
        "  e1 =100*(ut - 2*u * (1 - u)) *(ut - 2*u * (1 - u)) \n",
        "  e2 = (model2(th.tensor([0.0], device=device)) - 0.5) ** 2\n",
        "  return e1 + e2\n"
      ],
      "execution_count": 0,
      "outputs": []
    },
    {
      "cell_type": "code",
      "metadata": {
        "colab_type": "code",
        "id": "HNJHEFy32h9w",
        "colab": {}
      },
      "source": [
        "model2 = th.nn.Sequential(\n",
        "    th.nn.Linear(1, 100),\n",
        "    th.nn.ReLU(),\n",
        "    th.nn.Linear(100, 100),\n",
        "    th.nn.ReLU(),\n",
        "    th.nn.Linear(100, 1)\n",
        ").to(device)\n",
        "\n",
        "def error2(t):\n",
        "  u = model2(t)\n",
        "  ut = th.autograd.grad([th.sum(u)], [t], create_graph=True, only_inputs=True)[0]\n",
        "  w = th.exp(t)\n",
        "  e1 = w * (ut - 2*u * (1 - u)) *(ut - 2*u * (1 - u))\n",
        "  e2 = w * (model2(th.tensor([0.0], device=device)) - 0.5) ** 2\n",
        "  return e1 + e2\n"
      ],
      "execution_count": 0,
      "outputs": []
    },
    {
      "cell_type": "code",
      "metadata": {
        "id": "QXbWvZeZi4Qo",
        "colab_type": "code",
        "outputId": "175406c5-f87b-4cca-ad33-bd9594a7f44c",
        "colab": {
          "base_uri": "https://localhost:8080/",
          "height": 265
        }
      },
      "source": [
        "def plot2(start=-5.0, end=5.0):\n",
        "  def np(x):\n",
        "    return x.detach().cpu().squeeze(1).numpy()\n",
        "  t = th.arange(1001.0, requires_grad=True).unsqueeze(1).to(device) / 1000 * (end - start) + start\n",
        "  u = model2(t)\n",
        "  ut = th.autograd.grad([th.sum(u)], [t], create_graph=True, only_inputs=True)[0]\n",
        "  e = error2(t)\n",
        "  plt.plot(np(t), np(u), label=\"numerical\")\n",
        "  plt.plot(np(t), np(ut), label=\"derivate\")\n",
        "  plt.plot(np(t), np(e), label=\"error\")\n",
        "  plt.legend()\n",
        "  plt.show()\n",
        "\n",
        "plot2()"
      ],
      "execution_count": 0,
      "outputs": [
        {
          "output_type": "display_data",
          "data": {
            "image/png": "[encoded data removed]",
            "text/plain": [
              "<Figure size 432x288 with 1 Axes>"
            ]
          },
          "metadata": {
            "tags": []
          }
        }
      ]
    },
    {
      "cell_type": "code",
      "metadata": {
        "id": "ZUaf7SF7jKex",
        "colab_type": "code",
        "outputId": "d59da1c5-72de-42f3-9926-6a8b78a5ac89",
        "colab": {
          "base_uri": "https://localhost:8080/",
          "height": 449
        }
      },
      "source": [
        "def optim2(batch=1000, lr=1e-6, steps=10000):\n",
        "  opt = th.optim.Adam(model2.parameters(), lr=lr)\n",
        "\n",
        "  for step in range(1, steps + 1):\n",
        "    opt.zero_grad()\n",
        "\n",
        "    # evaluate at random places in the [-5, 5] interval\n",
        "    t = th.rand([batch, 1], requires_grad=True, device=device) * 10 - 5\n",
        "    loss = th.mean(error2(t))\n",
        "\n",
        "    if step % 1000 == 0:\n",
        "      print(step, loss.item())\n",
        "    \n",
        "    loss.backward()\n",
        "    opt.step()\n",
        "\n",
        "optim2()\n",
        "plot2()"
      ],
      "execution_count": 0,
      "outputs": [
        {
          "output_type": "stream",
          "text": [
            "1000 0.002618581522256136\n",
            "2000 0.001510118250735104\n",
            "3000 0.0015514632686972618\n",
            "4000 0.0015059540746733546\n",
            "5000 0.0009554857388138771\n",
            "6000 0.0007812527474015951\n",
            "7000 0.0007064120727591217\n",
            "8000 0.0009616559837013483\n",
            "9000 0.000988819170743227\n",
            "10000 0.000922934734262526\n"
          ],
          "name": "stdout"
        },
        {
          "output_type": "display_data",
          "data": {
            "image/png": "[encoded data removed]",
            "text/plain": [
              "<Figure size 432x288 with 1 Axes>"
            ]
          },
          "metadata": {
            "tags": []
          }
        }
      ]
    },
    {
      "cell_type": "code",
      "metadata": {
        "id": "kqvnjPPV6v2o",
        "colab_type": "code",
        "colab": {}
      },
      "source": [
        "def error2(t):\n",
        "  u = model2(t)\n",
        "  ut = th.autograd.grad([th.sum(u)], [t], create_graph=True, only_inputs=True)[0]\n",
        "  w = th.exp(-t)\n",
        "  e1 = w * (ut - 2*u * (1 - u)) *(ut - 2*u * (1 - u))\n",
        "  e2 = w * (model2(th.tensor([0.0], device=device)) - 0.5) ** 2\n",
        "  return e1 + e2"
      ],
      "execution_count": 0,
      "outputs": []
    },
    {
      "cell_type": "code",
      "metadata": {
        "id": "rlAl-bnB_j7x",
        "colab_type": "code",
        "colab": {}
      },
      "source": [
        ""
      ],
      "execution_count": 0,
      "outputs": []
    }
  ]
}